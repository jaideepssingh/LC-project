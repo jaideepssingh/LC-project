{
 "cells": [
  {
   "cell_type": "code",
   "execution_count": 81,
   "metadata": {},
   "outputs": [],
   "source": [
    "#1.importing libraries\n",
    "import pandas as pd\n",
    "import numpy as np\n",
    "import os \n",
    "import matplotlib.pyplot as plt\n",
    "import seaborn as sns\n",
    "sns.set(color_codes = True)\n",
    "#path for data, loading in memory\n",
    "os.chdir('C:/Users/mua377n/Downloads/archive/')\n",
    "file = 'Loan_status_2007-2020Q3.gzip'"
   ]
  },
  {
   "cell_type": "code",
   "execution_count": 58,
   "metadata": {},
   "outputs": [],
   "source": [
    "#2.loading data into a data frame\n",
    "loan = pd.read_csv(file, sep = ',', quotechar = '\"', low_memory = False)"
   ]
  },
  {
   "cell_type": "code",
   "execution_count": 60,
   "metadata": {
    "scrolled": true
   },
   "outputs": [
    {
     "name": "stdout",
     "output_type": "stream",
     "text": [
      "(2925493, 142)\n"
     ]
    }
   ],
   "source": [
    "print(loan.shape) #rows 2,925,493, 3 mil rows. 142 columns"
   ]
  },
  {
   "cell_type": "code",
   "execution_count": 61,
   "metadata": {},
   "outputs": [
    {
     "data": {
      "text/html": [
       "<div>\n",
       "<style scoped>\n",
       "    .dataframe tbody tr th:only-of-type {\n",
       "        vertical-align: middle;\n",
       "    }\n",
       "\n",
       "    .dataframe tbody tr th {\n",
       "        vertical-align: top;\n",
       "    }\n",
       "\n",
       "    .dataframe thead th {\n",
       "        text-align: right;\n",
       "    }\n",
       "</style>\n",
       "<table border=\"1\" class=\"dataframe\">\n",
       "  <thead>\n",
       "    <tr style=\"text-align: right;\">\n",
       "      <th></th>\n",
       "      <th>Unnamed: 0</th>\n",
       "      <th>id</th>\n",
       "      <th>loan_amnt</th>\n",
       "      <th>funded_amnt</th>\n",
       "      <th>funded_amnt_inv</th>\n",
       "      <th>term</th>\n",
       "      <th>int_rate</th>\n",
       "      <th>installment</th>\n",
       "      <th>grade</th>\n",
       "      <th>sub_grade</th>\n",
       "      <th>...</th>\n",
       "      <th>hardship_start_date</th>\n",
       "      <th>hardship_end_date</th>\n",
       "      <th>payment_plan_start_date</th>\n",
       "      <th>hardship_length</th>\n",
       "      <th>hardship_dpd</th>\n",
       "      <th>hardship_loan_status</th>\n",
       "      <th>orig_projected_additional_accrued_interest</th>\n",
       "      <th>hardship_payoff_balance_amount</th>\n",
       "      <th>hardship_last_payment_amount</th>\n",
       "      <th>debt_settlement_flag</th>\n",
       "    </tr>\n",
       "  </thead>\n",
       "  <tbody>\n",
       "    <tr>\n",
       "      <th>0</th>\n",
       "      <td>0</td>\n",
       "      <td>1077501</td>\n",
       "      <td>5000.0</td>\n",
       "      <td>5000.0</td>\n",
       "      <td>4975.0</td>\n",
       "      <td>36 months</td>\n",
       "      <td>10.65%</td>\n",
       "      <td>162.87</td>\n",
       "      <td>B</td>\n",
       "      <td>B2</td>\n",
       "      <td>...</td>\n",
       "      <td>NaN</td>\n",
       "      <td>NaN</td>\n",
       "      <td>NaN</td>\n",
       "      <td>NaN</td>\n",
       "      <td>NaN</td>\n",
       "      <td>NaN</td>\n",
       "      <td>NaN</td>\n",
       "      <td>NaN</td>\n",
       "      <td>NaN</td>\n",
       "      <td>N</td>\n",
       "    </tr>\n",
       "    <tr>\n",
       "      <th>1</th>\n",
       "      <td>1</td>\n",
       "      <td>1077430</td>\n",
       "      <td>2500.0</td>\n",
       "      <td>2500.0</td>\n",
       "      <td>2500.0</td>\n",
       "      <td>60 months</td>\n",
       "      <td>15.27%</td>\n",
       "      <td>59.83</td>\n",
       "      <td>C</td>\n",
       "      <td>C4</td>\n",
       "      <td>...</td>\n",
       "      <td>NaN</td>\n",
       "      <td>NaN</td>\n",
       "      <td>NaN</td>\n",
       "      <td>NaN</td>\n",
       "      <td>NaN</td>\n",
       "      <td>NaN</td>\n",
       "      <td>NaN</td>\n",
       "      <td>NaN</td>\n",
       "      <td>NaN</td>\n",
       "      <td>N</td>\n",
       "    </tr>\n",
       "  </tbody>\n",
       "</table>\n",
       "<p>2 rows × 142 columns</p>\n",
       "</div>"
      ],
      "text/plain": [
       "   Unnamed: 0       id  loan_amnt  funded_amnt  funded_amnt_inv        term  \\\n",
       "0           0  1077501     5000.0       5000.0           4975.0   36 months   \n",
       "1           1  1077430     2500.0       2500.0           2500.0   60 months   \n",
       "\n",
       "  int_rate  installment grade sub_grade  ... hardship_start_date  \\\n",
       "0   10.65%       162.87     B        B2  ...                 NaN   \n",
       "1   15.27%        59.83     C        C4  ...                 NaN   \n",
       "\n",
       "  hardship_end_date payment_plan_start_date  hardship_length hardship_dpd  \\\n",
       "0               NaN                     NaN              NaN          NaN   \n",
       "1               NaN                     NaN              NaN          NaN   \n",
       "\n",
       "  hardship_loan_status orig_projected_additional_accrued_interest  \\\n",
       "0                  NaN                                        NaN   \n",
       "1                  NaN                                        NaN   \n",
       "\n",
       "  hardship_payoff_balance_amount hardship_last_payment_amount  \\\n",
       "0                            NaN                          NaN   \n",
       "1                            NaN                          NaN   \n",
       "\n",
       "  debt_settlement_flag  \n",
       "0                    N  \n",
       "1                    N  \n",
       "\n",
       "[2 rows x 142 columns]"
      ]
     },
     "execution_count": 61,
     "metadata": {},
     "output_type": "execute_result"
    }
   ],
   "source": [
    "loan.head(2)"
   ]
  },
  {
   "cell_type": "code",
   "execution_count": 62,
   "metadata": {},
   "outputs": [
    {
     "data": {
      "text/html": [
       "<div>\n",
       "<style scoped>\n",
       "    .dataframe tbody tr th:only-of-type {\n",
       "        vertical-align: middle;\n",
       "    }\n",
       "\n",
       "    .dataframe tbody tr th {\n",
       "        vertical-align: top;\n",
       "    }\n",
       "\n",
       "    .dataframe thead th {\n",
       "        text-align: right;\n",
       "    }\n",
       "</style>\n",
       "<table border=\"1\" class=\"dataframe\">\n",
       "  <thead>\n",
       "    <tr style=\"text-align: right;\">\n",
       "      <th></th>\n",
       "      <th>Unnamed: 0</th>\n",
       "      <th>id</th>\n",
       "      <th>loan_amnt</th>\n",
       "      <th>funded_amnt</th>\n",
       "      <th>funded_amnt_inv</th>\n",
       "      <th>term</th>\n",
       "      <th>int_rate</th>\n",
       "      <th>installment</th>\n",
       "      <th>grade</th>\n",
       "      <th>sub_grade</th>\n",
       "      <th>...</th>\n",
       "      <th>hardship_start_date</th>\n",
       "      <th>hardship_end_date</th>\n",
       "      <th>payment_plan_start_date</th>\n",
       "      <th>hardship_length</th>\n",
       "      <th>hardship_dpd</th>\n",
       "      <th>hardship_loan_status</th>\n",
       "      <th>orig_projected_additional_accrued_interest</th>\n",
       "      <th>hardship_payoff_balance_amount</th>\n",
       "      <th>hardship_last_payment_amount</th>\n",
       "      <th>debt_settlement_flag</th>\n",
       "    </tr>\n",
       "  </thead>\n",
       "  <tbody>\n",
       "    <tr>\n",
       "      <th>2925491</th>\n",
       "      <td>105449</td>\n",
       "      <td>102196576</td>\n",
       "      <td>6000.0</td>\n",
       "      <td>6000.0</td>\n",
       "      <td>6000.0</td>\n",
       "      <td>36 months</td>\n",
       "      <td>11.44%</td>\n",
       "      <td>197.69</td>\n",
       "      <td>B</td>\n",
       "      <td>B4</td>\n",
       "      <td>...</td>\n",
       "      <td>NaN</td>\n",
       "      <td>NaN</td>\n",
       "      <td>NaN</td>\n",
       "      <td>NaN</td>\n",
       "      <td>NaN</td>\n",
       "      <td>NaN</td>\n",
       "      <td>NaN</td>\n",
       "      <td>NaN</td>\n",
       "      <td>NaN</td>\n",
       "      <td>N</td>\n",
       "    </tr>\n",
       "    <tr>\n",
       "      <th>2925492</th>\n",
       "      <td>105450</td>\n",
       "      <td>99799684</td>\n",
       "      <td>30000.0</td>\n",
       "      <td>30000.0</td>\n",
       "      <td>30000.0</td>\n",
       "      <td>60 months</td>\n",
       "      <td>25.49%</td>\n",
       "      <td>889.18</td>\n",
       "      <td>E</td>\n",
       "      <td>E4</td>\n",
       "      <td>...</td>\n",
       "      <td>NaN</td>\n",
       "      <td>NaN</td>\n",
       "      <td>NaN</td>\n",
       "      <td>NaN</td>\n",
       "      <td>NaN</td>\n",
       "      <td>NaN</td>\n",
       "      <td>NaN</td>\n",
       "      <td>NaN</td>\n",
       "      <td>NaN</td>\n",
       "      <td>N</td>\n",
       "    </tr>\n",
       "  </tbody>\n",
       "</table>\n",
       "<p>2 rows × 142 columns</p>\n",
       "</div>"
      ],
      "text/plain": [
       "         Unnamed: 0         id  loan_amnt  funded_amnt  funded_amnt_inv  \\\n",
       "2925491      105449  102196576     6000.0       6000.0           6000.0   \n",
       "2925492      105450   99799684    30000.0      30000.0          30000.0   \n",
       "\n",
       "               term int_rate  installment grade sub_grade  ...  \\\n",
       "2925491   36 months   11.44%       197.69     B        B4  ...   \n",
       "2925492   60 months   25.49%       889.18     E        E4  ...   \n",
       "\n",
       "        hardship_start_date hardship_end_date payment_plan_start_date  \\\n",
       "2925491                 NaN               NaN                     NaN   \n",
       "2925492                 NaN               NaN                     NaN   \n",
       "\n",
       "         hardship_length hardship_dpd hardship_loan_status  \\\n",
       "2925491              NaN          NaN                  NaN   \n",
       "2925492              NaN          NaN                  NaN   \n",
       "\n",
       "        orig_projected_additional_accrued_interest  \\\n",
       "2925491                                        NaN   \n",
       "2925492                                        NaN   \n",
       "\n",
       "        hardship_payoff_balance_amount hardship_last_payment_amount  \\\n",
       "2925491                            NaN                          NaN   \n",
       "2925492                            NaN                          NaN   \n",
       "\n",
       "        debt_settlement_flag  \n",
       "2925491                    N  \n",
       "2925492                    N  \n",
       "\n",
       "[2 rows x 142 columns]"
      ]
     },
     "execution_count": 62,
     "metadata": {},
     "output_type": "execute_result"
    }
   ],
   "source": [
    "loan.tail(2)"
   ]
  },
  {
   "cell_type": "code",
   "execution_count": 94,
   "metadata": {},
   "outputs": [
    {
     "name": "stdout",
     "output_type": "stream",
     "text": [
      "Unnamed: 0                                      int64\n",
      "id                                             object\n",
      "loan_amnt                                     float64\n",
      "funded_amnt                                   float64\n",
      "funded_amnt_inv                               float64\n",
      "                                               ...   \n",
      "hardship_loan_status                           object\n",
      "orig_projected_additional_accrued_interest    float64\n",
      "hardship_payoff_balance_amount                float64\n",
      "hardship_last_payment_amount                  float64\n",
      "debt_settlement_flag                           object\n",
      "Length: 142, dtype: object\n",
      "         Unnamed: 0     loan_amnt   funded_amnt  funded_amnt_inv  \\\n",
      "count  2.925493e+06  2.925492e+06  2.925492e+06     2.925492e+06   \n",
      "mean   8.697419e+04  1.535878e+04  1.535470e+04     1.534005e+04   \n",
      "std    8.048842e+04  9.478383e+03  9.477145e+03     9.480634e+03   \n",
      "min    0.000000e+00  5.000000e+02  5.000000e+02     0.000000e+00   \n",
      "25%    3.284100e+04  8.000000e+03  8.000000e+03     8.000000e+03   \n",
      "50%    6.892500e+04  1.300000e+04  1.300000e+04     1.300000e+04   \n",
      "75%    1.072940e+05  2.000000e+04  2.000000e+04     2.000000e+04   \n",
      "max    4.210940e+05  4.000000e+04  4.000000e+04     4.000000e+04   \n",
      "\n",
      "        installment    annual_inc           dti   delinq_2yrs  fico_range_low  \\\n",
      "count  2.925492e+06  2.925488e+06  2.922384e+06  2.925463e+06    2.925492e+06   \n",
      "mean   4.523914e+02  7.993727e+04  1.929648e+01  2.897012e-01    7.005110e+02   \n",
      "std    2.729478e+02  1.117476e+05  1.571977e+01  8.436819e-01    3.376565e+01   \n",
      "min    4.930000e+00  0.000000e+00 -1.000000e+00  0.000000e+00    6.100000e+02   \n",
      "25%    2.535000e+02  4.700000e+04  1.208000e+01  0.000000e+00    6.750000e+02   \n",
      "50%    3.823000e+02  6.600000e+04  1.810000e+01  0.000000e+00    6.950000e+02   \n",
      "75%    6.039200e+02  9.500000e+04  2.488000e+01  0.000000e+00    7.200000e+02   \n",
      "max    1.719830e+03  1.100000e+08  9.990000e+02  5.800000e+01    8.450000e+02   \n",
      "\n",
      "       fico_range_high  ...  sec_app_num_rev_accts  \\\n",
      "count     2.925492e+06  ...          197824.000000   \n",
      "mean      7.045112e+02  ...              12.544398   \n",
      "std       3.376653e+01  ...               8.206977   \n",
      "min       6.140000e+02  ...               0.000000   \n",
      "25%       6.790000e+02  ...               7.000000   \n",
      "50%       6.990000e+02  ...              11.000000   \n",
      "75%       7.240000e+02  ...              17.000000   \n",
      "max       8.500000e+02  ...             121.000000   \n",
      "\n",
      "       sec_app_chargeoff_within_12_mths  sec_app_collections_12_mths_ex_med  \\\n",
      "count                     197824.000000                       197824.000000   \n",
      "mean                           0.038327                            0.067545   \n",
      "std                            0.362390                            0.371836   \n",
      "min                            0.000000                            0.000000   \n",
      "25%                            0.000000                            0.000000   \n",
      "50%                            0.000000                            0.000000   \n",
      "75%                            0.000000                            0.000000   \n",
      "max                           21.000000                           23.000000   \n",
      "\n",
      "       deferral_term  hardship_amount  hardship_length   hardship_dpd  \\\n",
      "count  143638.000000    182076.000000    143638.000000  143637.000000   \n",
      "mean        2.233427       119.887400         2.233427       2.323148   \n",
      "std         0.565689       247.522976         0.565689       6.179453   \n",
      "min         0.000000         0.000000         0.000000       0.000000   \n",
      "25%         2.000000         0.000000         2.000000       0.000000   \n",
      "50%         2.000000         0.000000         2.000000       0.000000   \n",
      "75%         2.000000       101.940000         2.000000       0.000000   \n",
      "max         4.000000      2797.500000         4.000000      82.000000   \n",
      "\n",
      "       orig_projected_additional_accrued_interest  \\\n",
      "count                               179240.000000   \n",
      "mean                                   369.367460   \n",
      "std                                    468.696526   \n",
      "min                                      0.000000   \n",
      "25%                                    104.280000   \n",
      "50%                                    249.474420   \n",
      "75%                                    482.532500   \n",
      "max                                  11581.820000   \n",
      "\n",
      "       hardship_payoff_balance_amount  hardship_last_payment_amount  \n",
      "count                   182076.000000                 182076.000000  \n",
      "mean                     11993.128927                    745.504875  \n",
      "std                       9162.902724                   2095.316599  \n",
      "min                          0.000000                      0.000000  \n",
      "25%                       4749.142500                    259.040000  \n",
      "50%                       9967.160000                    423.200000  \n",
      "75%                      17640.670000                    679.580000  \n",
      "max                      42135.550000                  40270.980000  \n",
      "\n",
      "[8 rows x 107 columns]\n"
     ]
    }
   ],
   "source": [
    "#3. checking data types and describing the data\n",
    "loan.info() #dtypes include float64, int64, and object / char\n",
    "print(loan.dtypes)\n",
    "print(loan.describe())\n",
    "#columns with numeric data type\n",
    "loan_num = loan.select_dtypes(include = ['int64', 'float64']).columns\n",
    "#columns with categorical data type\n",
    "loan_char = loan.select_dtypes(exclude = ['int64', 'float64']).columns"
   ]
  },
  {
   "cell_type": "code",
   "execution_count": 86,
   "metadata": {},
   "outputs": [],
   "source": [
    "#4. error handling, duplicates\n",
    "#print(\"finding duplicate rows: \", loan[loan.duplicated()].shape[0])\n",
    "#print(\"shape before removing duplicates: \", loan.shape)\n",
    "#loan = loan.drop_duplicates()\n",
    "#print(\"shape after removing duplicates \", loan.shape)"
   ]
  },
  {
   "cell_type": "code",
   "execution_count": 66,
   "metadata": {},
   "outputs": [
    {
     "name": "stdout",
     "output_type": "stream",
     "text": [
      "Finding missing or null values: \n",
      "Unnamed: 0                                          0\n",
      "id                                                  0\n",
      "loan_amnt                                           1\n",
      "funded_amnt                                         1\n",
      "funded_amnt_inv                                     1\n",
      "                                               ...   \n",
      "hardship_loan_status                          2782082\n",
      "orig_projected_additional_accrued_interest    2746253\n",
      "hardship_payoff_balance_amount                2743417\n",
      "hardship_last_payment_amount                  2743417\n",
      "debt_settlement_flag                                1\n",
      "Length: 142, dtype: int64\n"
     ]
    }
   ],
   "source": [
    "#5. missing values \n",
    "#finding missing or null values\n",
    "print(\"Finding missing or null values: \")\n",
    "print(loan.isnull().sum())\n",
    "#missing value imputation, last value, median, mode for categorical var, average, interpolate\n"
   ]
  },
  {
   "cell_type": "code",
   "execution_count": 116,
   "metadata": {},
   "outputs": [],
   "source": [
    "#6.keeping relevant rows and columns\n",
    "keep_loan_status = ['loan_status','Charged Off', 'Fully Paid', 'Late (16-30 days)', \n",
    "             'Late (31-120 days)', 'Default']\n",
    "loan = loan[loan['loan_status'].isin(keep_loan_status)]\n",
    "#based on variable description. keep variables that might be related to prediction of loan status\n",
    "keep_vars = ['id','loan_status', 'loan_amnt','int_rate','emp_length']#, 'mort_acc', \n",
    "  #         'mths_since_recent_bc', 'mths_since_recent_inq',\n",
    "   #        'total_il_high_credit_limit']\n",
    "loan = loan.filter(keep_vars, axis = 1)"
   ]
  },
  {
   "cell_type": "code",
   "execution_count": 117,
   "metadata": {},
   "outputs": [
    {
     "data": {
      "image/png": "[encoded data removed]",
      "text/plain": [
       "<Figure size 432x288 with 1 Axes>"
      ]
     },
     "metadata": {},
     "output_type": "display_data"
    }
   ],
   "source": [
    "#7. outliers, box plots\n",
    "loan.boxplot(column = 'loan_amnt')\n",
    "loan['loan_amnt'].describe()\n",
    "\n",
    "def remove_outl(colm):\n",
    "    sorted(colm)\n",
    "    q1, q3 = colm.quantile([0.25, 0.75])\n",
    "    IQR = q3-q1\n",
    "    lwr_rng = q1 - 1.5*IQR\n",
    "    upr_rng = q3 + 1.5*IQR\n",
    "    return lwr_rng, upr_rng\n",
    "\n",
    "lwr, upr = remove_outl(loan1['loan_amnt'])\n",
    "loan['loan_amnt'] = np.where(loan['loan_amnt']>upr, upr, loan['loan_amnt'])\n",
    "loan['loan_amnt'] = np.where(loan['loan_amnt']<lwr, lwr, loan['loan_amnt'])"
   ]
  },
  {
   "cell_type": "code",
   "execution_count": 118,
   "metadata": {},
   "outputs": [
    {
     "data": {
      "text/html": [
       "<div>\n",
       "<style scoped>\n",
       "    .dataframe tbody tr th:only-of-type {\n",
       "        vertical-align: middle;\n",
       "    }\n",
       "\n",
       "    .dataframe tbody tr th {\n",
       "        vertical-align: top;\n",
       "    }\n",
       "\n",
       "    .dataframe thead th {\n",
       "        text-align: right;\n",
       "    }\n",
       "</style>\n",
       "<table border=\"1\" class=\"dataframe\">\n",
       "  <thead>\n",
       "    <tr style=\"text-align: right;\">\n",
       "      <th></th>\n",
       "      <th>loan_amnt</th>\n",
       "    </tr>\n",
       "  </thead>\n",
       "  <tbody>\n",
       "    <tr>\n",
       "      <th>count</th>\n",
       "      <td>1.879637e+06</td>\n",
       "    </tr>\n",
       "    <tr>\n",
       "      <th>mean</th>\n",
       "      <td>1.459312e+04</td>\n",
       "    </tr>\n",
       "    <tr>\n",
       "      <th>std</th>\n",
       "      <td>8.927262e+03</td>\n",
       "    </tr>\n",
       "    <tr>\n",
       "      <th>min</th>\n",
       "      <td>5.000000e+02</td>\n",
       "    </tr>\n",
       "    <tr>\n",
       "      <th>25%</th>\n",
       "      <td>8.000000e+03</td>\n",
       "    </tr>\n",
       "    <tr>\n",
       "      <th>50%</th>\n",
       "      <td>1.200000e+04</td>\n",
       "    </tr>\n",
       "    <tr>\n",
       "      <th>75%</th>\n",
       "      <td>2.000000e+04</td>\n",
       "    </tr>\n",
       "    <tr>\n",
       "      <th>max</th>\n",
       "      <td>3.800000e+04</td>\n",
       "    </tr>\n",
       "  </tbody>\n",
       "</table>\n",
       "</div>"
      ],
      "text/plain": [
       "          loan_amnt\n",
       "count  1.879637e+06\n",
       "mean   1.459312e+04\n",
       "std    8.927262e+03\n",
       "min    5.000000e+02\n",
       "25%    8.000000e+03\n",
       "50%    1.200000e+04\n",
       "75%    2.000000e+04\n",
       "max    3.800000e+04"
      ]
     },
     "execution_count": 118,
     "metadata": {},
     "output_type": "execute_result"
    },
    {
     "data": {
      "image/png": "[encoded data removed]",
      "text/plain": [
       "<Figure size 432x288 with 1 Axes>"
      ]
     },
     "metadata": {},
     "output_type": "display_data"
    }
   ],
   "source": [
    "loan.boxplot(column = 'loan_amnt')\n",
    "loan.describe()"
   ]
  },
  {
   "cell_type": "code",
   "execution_count": null,
   "metadata": {},
   "outputs": [],
   "source": [
    "#8.feature engineering - creating features from raw data to increase predictive power"
   ]
  },
  {
   "cell_type": "code",
   "execution_count": 119,
   "metadata": {},
   "outputs": [],
   "source": [
    "#9. patterns in data - correlation matrix\n",
    "c = loan.corr()"
   ]
  },
  {
   "cell_type": "code",
   "execution_count": 120,
   "metadata": {},
   "outputs": [
    {
     "data": {
      "image/png": "[encoded data removed]",
      "text/plain": [
       "<Figure size 180x180 with 2 Axes>"
      ]
     },
     "metadata": {},
     "output_type": "display_data"
    }
   ],
   "source": [
    "#correlogram \n",
    "# with regression\n",
    "sns.pairplot(loan, kind=\"reg\")\n",
    "plt.show()\n",
    "# without regression\n",
    "#sns.pairplot(loan, kind=\"scatter\")\n",
    "#plt.show()"
   ]
  },
  {
   "cell_type": "code",
   "execution_count": null,
   "metadata": {},
   "outputs": [],
   "source": [
    "#heatmap\n",
    "#normalize\n",
    "loan_norm_col=(loan-loan.mean())/loan.std()\n",
    "sns.heatmap(loan_norm_col, cmap='viridis')\n",
    "plt.show()\n",
    "#dendograms"
   ]
  }
 ],
 "metadata": {
  "kernelspec": {
   "display_name": "Python 3",
   "language": "python",
   "name": "python3"
  },
  "language_info": {
   "codemirror_mode": {
    "name": "ipython",
    "version": 3
   },
   "file_extension": ".py",
   "mimetype": "text/x-python",
   "name": "python",
   "nbconvert_exporter": "python",
   "pygments_lexer": "ipython3",
   "version": "3.8.5"
  }
 },
 "nbformat": 4,
 "nbformat_minor": 4
}
